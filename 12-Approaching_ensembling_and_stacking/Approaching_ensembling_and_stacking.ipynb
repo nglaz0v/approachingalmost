{
 "cells": [
  {
   "cell_type": "markdown",
   "id": "812d7246",
   "metadata": {},
   "source": [
    "# Approaching ensembling and stacking"
   ]
  },
  {
   "cell_type": "code",
   "execution_count": 1,
   "id": "8590f822",
   "metadata": {},
   "outputs": [],
   "source": [
    "import numpy as np\n",
    "\n",
    "def mean_predictions(probas):\n",
    "    \"\"\"\n",
    "    Create mean predictions\n",
    "    :param probas: 2-d array of probability values\n",
    "    :return: mean probability\n",
    "    \"\"\"\n",
    "    return np.mean(probas, axis=1)\n",
    "\n",
    "def max_voting(preds):\n",
    "    \"\"\"\n",
    "    Create mean predictions\n",
    "    :param probas: 2-d array of prediction values\n",
    "    :return: max voted predictions\n",
    "    \"\"\"\n",
    "    idxs = np.argmax(preds, axis=1)\n",
    "    return np.take_along_axis(preds, idxs[:, None], axis=1)"
   ]
  },
  {
   "cell_type": "code",
   "execution_count": 2,
   "id": "848f7b43",
   "metadata": {},
   "outputs": [],
   "source": [
    "def rank_mean(probas):\n",
    "    \"\"\"\n",
    "    Create mean predictions using ranks\n",
    "    :param probas: 2-d array of probability values\n",
    "    :return: mean ranks\n",
    "    \"\"\"\n",
    "    ranked = []\n",
    "    for i in range(probas.shape[1]):\n",
    "        rank_data = stats.rankdata(probas[:, i])\n",
    "        ranked.append(rank_data)\n",
    "    ranked = np.column_stack(ranked)\n",
    "    return np.mean(ranked, axis=1)"
   ]
  },
  {
   "cell_type": "code",
   "execution_count": null,
   "id": "7bc48f5d",
   "metadata": {},
   "outputs": [],
   "source": []
  }
 ],
 "metadata": {
  "kernelspec": {
   "display_name": "Python 3 (ipykernel)",
   "language": "python",
   "name": "python3"
  },
  "language_info": {
   "codemirror_mode": {
    "name": "ipython",
    "version": 3
   },
   "file_extension": ".py",
   "mimetype": "text/x-python",
   "name": "python",
   "nbconvert_exporter": "python",
   "pygments_lexer": "ipython3",
   "version": "3.12.3"
  }
 },
 "nbformat": 4,
 "nbformat_minor": 5
}
