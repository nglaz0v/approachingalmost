{
 "cells": [
  {
   "cell_type": "markdown",
   "id": "8a4f03ea",
   "metadata": {},
   "source": [
    "# Feature engineering"
   ]
  },
  {
   "cell_type": "markdown",
   "id": "ba896b29",
   "metadata": {},
   "source": [
    "## date and time"
   ]
  },
  {
   "cell_type": "code",
   "execution_count": 1,
   "id": "8ac45ff7",
   "metadata": {},
   "outputs": [],
   "source": [
    "if None:\n",
    "    df.loc[:, 'year'] = df['datetime_column'].dt.year\n",
    "    df.loc[:, 'weekofyear'] = df['datetime_column'].dt.weekofyear\n",
    "    df.loc[:, 'month'] = df['datetime_column'].dt.month\n",
    "    df.loc[:, 'dayofweek'] = df['datetime_column'].dt.dayofweek\n",
    "    df.loc[:, 'weekend'] = (df.datetime_column.dt.weekday >=5).astype(int)\n",
    "    df.loc[:, 'hour'] = df['datetime_column'].dt.hour"
   ]
  },
  {
   "cell_type": "code",
   "execution_count": 2,
   "id": "91f1db66",
   "metadata": {},
   "outputs": [],
   "source": [
    "import pandas as pd\n",
    "\n",
    "# create a series of datetime with a frequency of 10 hours\n",
    "s = pd.date_range('2020-01-06', '2020-01-10', freq='10H').to_series()\n",
    "\n",
    "# create some features based on datetime\n",
    "features = {\n",
    "    \"dayofweek\": s.dt.dayofweek.values,\n",
    "    \"dayofyear\": s.dt.dayofyear.values,\n",
    "    \"hour\": s.dt.hour.values,\n",
    "    \"is_leap_year\": s.dt.is_leap_year.values,\n",
    "    \"quarter\": s.dt.quarter.values,\n",
    "    \"weekofyear\": s.dt.isocalendar().week  # s.dt.weekofyear.values\n",
    "}"
   ]
  },
  {
   "cell_type": "markdown",
   "id": "d3f203cc",
   "metadata": {},
   "source": [
    "## aggregated features"
   ]
  },
  {
   "cell_type": "code",
   "execution_count": 3,
   "id": "d8b868c1",
   "metadata": {},
   "outputs": [],
   "source": [
    "def generate_features(df):\n",
    "    # create a bunch of features using the date column\n",
    "    df.loc[:, 'year'] = df['date'].dt.year\n",
    "    df.loc[:, 'weekofyear'] = df['date'].dt.weekofyear\n",
    "    df.loc[:, 'month'] = df['date'].dt.month\n",
    "    df.loc[:, 'dayofweek'] = df['date'].dt.dayofweek\n",
    "    df.loc[:, 'weekend'] = (df['date'].dt.weekday >=5).astype(int)\n",
    "    \n",
    "    # create an aggregate dictionary\n",
    "    aggs = {}\n",
    "    # for aggregation by month, we calculate the\n",
    "    # number of unique month values and also the mean\n",
    "    aggs['month'] = ['nunique', 'mean']\n",
    "    aggs['weekofyear'] = ['nunique', 'mean']\n",
    "    # we aggregate by num1 and calculate sum, max, min\n",
    "    # and mean values of this column\n",
    "    aggs['num1'] = ['sum','max','min','mean']\n",
    "    # for customer_id, we calculate the total count\n",
    "    aggs['customer_id'] = ['size']\n",
    "    # again for customer_id, we calculate the total unique\n",
    "    aggs['customer_id'] = ['nunique']\n",
    "    \n",
    "    # we group by customer_id and calculate the aggregates\n",
    "    agg_df = df.groupby('customer_id').agg(aggs)\n",
    "    agg_df = agg_df.reset_index()\n",
    "    return agg_df"
   ]
  },
  {
   "cell_type": "markdown",
   "id": "70d5cc1e",
   "metadata": {},
   "source": [
    "## time series data (list of values)"
   ]
  },
  {
   "cell_type": "code",
   "execution_count": 4,
   "id": "6c84f135",
   "metadata": {},
   "outputs": [],
   "source": [
    "if None:\n",
    "    import numpy as np\n",
    "\n",
    "    feature_dict = {}\n",
    "\n",
    "    # calculate mean\n",
    "    feature_dict['mean'] = np.mean(x)\n",
    "\n",
    "    # calculate max\n",
    "    feature_dict['max'] = np.max(x)\n",
    "\n",
    "    # calculate min\n",
    "    feature_dict['min'] = np.min(x)\n",
    "\n",
    "    # calculate standard deviation\n",
    "    feature_dict['std'] = np.std(x)\n",
    "\n",
    "    # calculate variance\n",
    "    feature_dict['var'] = np.var(x)\n",
    "\n",
    "    # peak-to-peak\n",
    "    feature_dict['ptp'] = np.ptp(x)\n",
    "\n",
    "    # percentile features\n",
    "    feature_dict['percentile_10'] = np.percentile(x, 10)\n",
    "    feature_dict['percentile_60'] = np.percentile(x, 60)\n",
    "    feature_dict['percentile_90'] = np.percentile(x, 90)\n",
    "\n",
    "    # quantile features\n",
    "    feature_dict['quantile_5'] = np.quantile(x, 0.05)\n",
    "    feature_dict['quantile_95'] = np.quantile(x, 0.95)\n",
    "    feature_dict['quantile_99'] = np.quantile(x, 0.99)"
   ]
  },
  {
   "cell_type": "code",
   "execution_count": 5,
   "id": "36596910",
   "metadata": {},
   "outputs": [],
   "source": [
    "if None:\n",
    "    from tsfresh.feature_extraction import feature_calculators as fc\n",
    "\n",
    "    # tsfresh based features\n",
    "    feature_dict['abs_energy'] = fc.abs_energy(x)\n",
    "    feature_dict['count_above_mean'] = fc.count_above_mean(x)\n",
    "    feature_dict['count_below_mean'] = fc.count_below_mean(x)\n",
    "    feature_dict['mean_abs_change'] = fc.mean_abs_change(x)\n",
    "    feature_dict['mean_change'] = fc.mean_change(x)"
   ]
  },
  {
   "cell_type": "markdown",
   "id": "3218ec35",
   "metadata": {},
   "source": [
    "## polynomial features"
   ]
  },
  {
   "cell_type": "code",
   "execution_count": 6,
   "id": "1a132bff",
   "metadata": {},
   "outputs": [
    {
     "data": {
      "text/html": [
       "<div>\n",
       "<style scoped>\n",
       "    .dataframe tbody tr th:only-of-type {\n",
       "        vertical-align: middle;\n",
       "    }\n",
       "\n",
       "    .dataframe tbody tr th {\n",
       "        vertical-align: top;\n",
       "    }\n",
       "\n",
       "    .dataframe thead th {\n",
       "        text-align: right;\n",
       "    }\n",
       "</style>\n",
       "<table border=\"1\" class=\"dataframe\">\n",
       "  <thead>\n",
       "    <tr style=\"text-align: right;\">\n",
       "      <th></th>\n",
       "      <th>f_1</th>\n",
       "      <th>f_2</th>\n",
       "    </tr>\n",
       "  </thead>\n",
       "  <tbody>\n",
       "    <tr>\n",
       "      <th>0</th>\n",
       "      <td>0.612829</td>\n",
       "      <td>0.667684</td>\n",
       "    </tr>\n",
       "    <tr>\n",
       "      <th>1</th>\n",
       "      <td>0.826424</td>\n",
       "      <td>0.564424</td>\n",
       "    </tr>\n",
       "    <tr>\n",
       "      <th>2</th>\n",
       "      <td>0.265701</td>\n",
       "      <td>0.928420</td>\n",
       "    </tr>\n",
       "    <tr>\n",
       "      <th>3</th>\n",
       "      <td>0.030605</td>\n",
       "      <td>0.910132</td>\n",
       "    </tr>\n",
       "    <tr>\n",
       "      <th>4</th>\n",
       "      <td>0.216918</td>\n",
       "      <td>0.029578</td>\n",
       "    </tr>\n",
       "  </tbody>\n",
       "</table>\n",
       "</div>"
      ],
      "text/plain": [
       "        f_1       f_2\n",
       "0  0.612829  0.667684\n",
       "1  0.826424  0.564424\n",
       "2  0.265701  0.928420\n",
       "3  0.030605  0.910132\n",
       "4  0.216918  0.029578"
      ]
     },
     "execution_count": 6,
     "metadata": {},
     "output_type": "execute_result"
    }
   ],
   "source": [
    "import numpy as np\n",
    "\n",
    "# generate a random dataframe with\n",
    "# 2 columns and 100 rows\n",
    "df = pd.DataFrame(\n",
    "    np.random.rand(100, 2),\n",
    "    columns=[f\"f_{i}\" for i in range(1, 3)]\n",
    ")\n",
    "df.head()"
   ]
  },
  {
   "cell_type": "code",
   "execution_count": 7,
   "id": "7fda9507",
   "metadata": {},
   "outputs": [
    {
     "data": {
      "text/html": [
       "<div>\n",
       "<style scoped>\n",
       "    .dataframe tbody tr th:only-of-type {\n",
       "        vertical-align: middle;\n",
       "    }\n",
       "\n",
       "    .dataframe tbody tr th {\n",
       "        vertical-align: top;\n",
       "    }\n",
       "\n",
       "    .dataframe thead th {\n",
       "        text-align: right;\n",
       "    }\n",
       "</style>\n",
       "<table border=\"1\" class=\"dataframe\">\n",
       "  <thead>\n",
       "    <tr style=\"text-align: right;\">\n",
       "      <th></th>\n",
       "      <th>f_1</th>\n",
       "      <th>f_2</th>\n",
       "      <th>f_3</th>\n",
       "      <th>f_4</th>\n",
       "      <th>f_5</th>\n",
       "    </tr>\n",
       "  </thead>\n",
       "  <tbody>\n",
       "    <tr>\n",
       "      <th>0</th>\n",
       "      <td>0.612829</td>\n",
       "      <td>0.667684</td>\n",
       "      <td>0.375560</td>\n",
       "      <td>0.409176</td>\n",
       "      <td>0.445801</td>\n",
       "    </tr>\n",
       "    <tr>\n",
       "      <th>1</th>\n",
       "      <td>0.826424</td>\n",
       "      <td>0.564424</td>\n",
       "      <td>0.682977</td>\n",
       "      <td>0.466454</td>\n",
       "      <td>0.318575</td>\n",
       "    </tr>\n",
       "    <tr>\n",
       "      <th>2</th>\n",
       "      <td>0.265701</td>\n",
       "      <td>0.928420</td>\n",
       "      <td>0.070597</td>\n",
       "      <td>0.246682</td>\n",
       "      <td>0.861964</td>\n",
       "    </tr>\n",
       "    <tr>\n",
       "      <th>3</th>\n",
       "      <td>0.030605</td>\n",
       "      <td>0.910132</td>\n",
       "      <td>0.000937</td>\n",
       "      <td>0.027855</td>\n",
       "      <td>0.828341</td>\n",
       "    </tr>\n",
       "    <tr>\n",
       "      <th>4</th>\n",
       "      <td>0.216918</td>\n",
       "      <td>0.029578</td>\n",
       "      <td>0.047053</td>\n",
       "      <td>0.006416</td>\n",
       "      <td>0.000875</td>\n",
       "    </tr>\n",
       "  </tbody>\n",
       "</table>\n",
       "</div>"
      ],
      "text/plain": [
       "        f_1       f_2       f_3       f_4       f_5\n",
       "0  0.612829  0.667684  0.375560  0.409176  0.445801\n",
       "1  0.826424  0.564424  0.682977  0.466454  0.318575\n",
       "2  0.265701  0.928420  0.070597  0.246682  0.861964\n",
       "3  0.030605  0.910132  0.000937  0.027855  0.828341\n",
       "4  0.216918  0.029578  0.047053  0.006416  0.000875"
      ]
     },
     "execution_count": 7,
     "metadata": {},
     "output_type": "execute_result"
    }
   ],
   "source": [
    "from sklearn import preprocessing\n",
    "\n",
    "# initialize polynomial features class object\n",
    "# for two-degree polynomial features\n",
    "pf = preprocessing.PolynomialFeatures(\n",
    "    degree=2,\n",
    "    interaction_only=False,\n",
    "    include_bias=False\n",
    ")\n",
    "\n",
    "# fit to the features\n",
    "pf.fit(df)\n",
    "\n",
    "# create polynomial features\n",
    "poly_feats = pf.transform(df)\n",
    "\n",
    "# create a dataframe with all the features\n",
    "num_feats = poly_feats.shape[1]\n",
    "df_transformed = pd.DataFrame(\n",
    "    poly_feats,\n",
    "    columns=[f\"f_{i}\" for i in range(1, num_feats + 1)]\n",
    ")\n",
    "df_transformed.head()"
   ]
  },
  {
   "cell_type": "markdown",
   "id": "d00a2bc2",
   "metadata": {},
   "source": [
    "## binning (convert the numbers to categories)"
   ]
  },
  {
   "cell_type": "code",
   "execution_count": 8,
   "id": "2997cee8",
   "metadata": {},
   "outputs": [
    {
     "data": {
      "text/html": [
       "<div>\n",
       "<style scoped>\n",
       "    .dataframe tbody tr th:only-of-type {\n",
       "        vertical-align: middle;\n",
       "    }\n",
       "\n",
       "    .dataframe tbody tr th {\n",
       "        vertical-align: top;\n",
       "    }\n",
       "\n",
       "    .dataframe thead th {\n",
       "        text-align: right;\n",
       "    }\n",
       "</style>\n",
       "<table border=\"1\" class=\"dataframe\">\n",
       "  <thead>\n",
       "    <tr style=\"text-align: right;\">\n",
       "      <th></th>\n",
       "      <th>f_1</th>\n",
       "      <th>f_2</th>\n",
       "      <th>f_bin_10</th>\n",
       "      <th>f_bin_100</th>\n",
       "    </tr>\n",
       "  </thead>\n",
       "  <tbody>\n",
       "    <tr>\n",
       "      <th>0</th>\n",
       "      <td>0.612829</td>\n",
       "      <td>0.667684</td>\n",
       "      <td>6</td>\n",
       "      <td>61</td>\n",
       "    </tr>\n",
       "    <tr>\n",
       "      <th>1</th>\n",
       "      <td>0.826424</td>\n",
       "      <td>0.564424</td>\n",
       "      <td>8</td>\n",
       "      <td>82</td>\n",
       "    </tr>\n",
       "    <tr>\n",
       "      <th>2</th>\n",
       "      <td>0.265701</td>\n",
       "      <td>0.928420</td>\n",
       "      <td>2</td>\n",
       "      <td>26</td>\n",
       "    </tr>\n",
       "    <tr>\n",
       "      <th>3</th>\n",
       "      <td>0.030605</td>\n",
       "      <td>0.910132</td>\n",
       "      <td>0</td>\n",
       "      <td>2</td>\n",
       "    </tr>\n",
       "    <tr>\n",
       "      <th>4</th>\n",
       "      <td>0.216918</td>\n",
       "      <td>0.029578</td>\n",
       "      <td>2</td>\n",
       "      <td>21</td>\n",
       "    </tr>\n",
       "  </tbody>\n",
       "</table>\n",
       "</div>"
      ],
      "text/plain": [
       "        f_1       f_2  f_bin_10  f_bin_100\n",
       "0  0.612829  0.667684         6         61\n",
       "1  0.826424  0.564424         8         82\n",
       "2  0.265701  0.928420         2         26\n",
       "3  0.030605  0.910132         0          2\n",
       "4  0.216918  0.029578         2         21"
      ]
     },
     "execution_count": 8,
     "metadata": {},
     "output_type": "execute_result"
    }
   ],
   "source": [
    "# create bins of the numerical columns\n",
    "# 10 bins\n",
    "df[\"f_bin_10\"] = pd.cut(df[\"f_1\"], bins=10, labels=False)\n",
    "# 100 bins\n",
    "df[\"f_bin_100\"] = pd.cut(df[\"f_1\"], bins=100, labels=False)\n",
    "\n",
    "df.head()"
   ]
  },
  {
   "cell_type": "markdown",
   "id": "9c8b0051",
   "metadata": {},
   "source": [
    "## log transformation"
   ]
  },
  {
   "cell_type": "code",
   "execution_count": 9,
   "id": "0e38bf4a",
   "metadata": {},
   "outputs": [],
   "source": [
    "if None:\n",
    "    print(df.f_3.var())\n",
    "    print(df.f_3.apply(lambda x: np.log(1 + x)).var())"
   ]
  },
  {
   "cell_type": "markdown",
   "id": "108c2b2a",
   "metadata": {},
   "source": [
    "## missing (NaN) values"
   ]
  },
  {
   "cell_type": "code",
   "execution_count": 10,
   "id": "ccae6966",
   "metadata": {},
   "outputs": [
    {
     "data": {
      "text/plain": [
       "(array([[ 4., nan, 14.,  4.,  2.,  3.],\n",
       "        [ 8.,  4., nan, nan, 12., 14.],\n",
       "        [ 2.,  4.,  4.,  4.,  5.,  1.],\n",
       "        [10.,  4., nan, nan,  4.,  4.],\n",
       "        [ 3.,  1., 12., 10.,  4.,  8.],\n",
       "        [nan, 13.,  6.,  2.,  2., 14.],\n",
       "        [13., 10.,  8., nan,  8.,  8.],\n",
       "        [12., 13., nan,  1.,  8.,  2.],\n",
       "        [11.,  4.,  1., nan, nan,  2.],\n",
       "        [ 5.,  6., 11.,  4., 13.,  5.]]),\n",
       " array([[ 4. ,  2.5, 14. ,  4. ,  2. ,  3. ],\n",
       "        [ 8. ,  4. ,  9.5,  7. , 12. , 14. ],\n",
       "        [ 2. ,  4. ,  4. ,  4. ,  5. ,  1. ],\n",
       "        [10. ,  4. ,  7.5,  4. ,  4. ,  4. ],\n",
       "        [ 3. ,  1. , 12. , 10. ,  4. ,  8. ],\n",
       "        [12.5, 13. ,  6. ,  2. ,  2. , 14. ],\n",
       "        [13. , 10. ,  8. ,  1.5,  8. ,  8. ],\n",
       "        [12. , 13. ,  4.5,  1. ,  8. ,  2. ],\n",
       "        [11. ,  4. ,  1. ,  2.5,  4.5,  2. ],\n",
       "        [ 5. ,  6. , 11. ,  4. , 13. ,  5. ]]))"
      ]
     },
     "execution_count": 10,
     "metadata": {},
     "output_type": "execute_result"
    }
   ],
   "source": [
    "import numpy as np\n",
    "from sklearn import impute\n",
    "\n",
    "# create a random numpy array with 10 samples\n",
    "# and 6 features and values ranging from 1 to 15\n",
    "X = np.random.randint(1, 15, (10, 6))\n",
    "\n",
    "# convert the array to float\n",
    "X = X.astype(float)\n",
    "\n",
    "# randomly assign 10 elements to NaN (missing)\n",
    "X.ravel()[np.random.choice(X.size, 10, replace=False)] = np.nan\n",
    "\n",
    "# use 2 nearest neighbours to fill na values\n",
    "knn_imputer = impute.KNNImputer(n_neighbors=2)\n",
    "XX = knn_imputer.fit_transform(X)\n",
    "X, XX"
   ]
  },
  {
   "cell_type": "code",
   "execution_count": null,
   "id": "871a0426",
   "metadata": {},
   "outputs": [],
   "source": []
  }
 ],
 "metadata": {
  "kernelspec": {
   "display_name": "Python 3 (ipykernel)",
   "language": "python",
   "name": "python3"
  },
  "language_info": {
   "codemirror_mode": {
    "name": "ipython",
    "version": 3
   },
   "file_extension": ".py",
   "mimetype": "text/x-python",
   "name": "python",
   "nbconvert_exporter": "python",
   "pygments_lexer": "ipython3",
   "version": "3.12.3"
  }
 },
 "nbformat": 4,
 "nbformat_minor": 5
}
