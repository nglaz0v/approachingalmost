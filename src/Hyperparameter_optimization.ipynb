{
 "cells": [
  {
   "cell_type": "markdown",
   "id": "b0a4f418",
   "metadata": {},
   "source": [
    "# Hyperparameter optimization\n",
    "[Mobile Price Classification](https://www.kaggle.com/iabhishekofficial/mobile-price-classification)"
   ]
  },
  {
   "cell_type": "code",
   "execution_count": 2,
   "id": "6c8bf5fb",
   "metadata": {},
   "outputs": [],
   "source": [
    "if None:\n",
    "    # define the best accuracy to be 0\n",
    "    # if you choose loss as a metric,\n",
    "    # you can make best loss to be inf (np.inf)\n",
    "    best_accuracy = 0\n",
    "    best_parameters = {\"a\": 0, \"b\": 0, \"c\": 0}\n",
    "\n",
    "    # loop over all values for a, b & c\n",
    "    for a in range(1, 11):\n",
    "        for b in range(1, 11):\n",
    "            for c in range(1, 11):\n",
    "                # inititalize model with current parameters\n",
    "                model = MODEL(a, b, c)\n",
    "                # fit the model\n",
    "                model.fit(training_data)\n",
    "                # make predictions\n",
    "                preds = model.predict(validation_data)\n",
    "                # calculate accuracy\n",
    "                accuracy = metrics.accuracy_score(targets, preds)\n",
    "                # save params if current accuracy\n",
    "                # is greater than best accuracy\n",
    "                if accuracy > best_accuracy:\n",
    "                    best_accuracy = accuracy\n",
    "                    best_parameters[\"a\"] = a\n",
    "                    best_parameters[\"b\"] = b\n",
    "                    best_parameters[\"c\"] = c"
   ]
  },
  {
   "cell_type": "code",
   "execution_count": null,
   "id": "38803dde",
   "metadata": {},
   "outputs": [],
   "source": []
  }
 ],
 "metadata": {
  "kernelspec": {
   "display_name": "Python 3 (ipykernel)",
   "language": "python",
   "name": "python3"
  },
  "language_info": {
   "codemirror_mode": {
    "name": "ipython",
    "version": 3
   },
   "file_extension": ".py",
   "mimetype": "text/x-python",
   "name": "python",
   "nbconvert_exporter": "python",
   "pygments_lexer": "ipython3",
   "version": "3.12.3"
  }
 },
 "nbformat": 4,
 "nbformat_minor": 5
}
